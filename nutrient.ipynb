{
 "cells": [
  {
   "cell_type": "markdown",
   "metadata": {},
   "source": [
    "JuliaはRとPythonと比較して一次連立方程式を解くのにライブラリを読み込んだり関数を使う必要もなく楽です  \n",
    "\n",
    "やってみるということでプリンの材料比率を推定してみます．  \n",
    "なぜプリンかと言えば  \n",
    "\n",
    "1. 身近な食品ということと栄養が興味深いかなと思うから  \n",
    "2. 食品の栄養表示として一般的である三大栄養素であるタンパク質，脂質，炭水化物で推測したいから  \n",
    "3. 家庭で作るシンプルなプリンは3つの材料 (卵，牛乳，砂糖)で作られているから  \n",
    "\n",
    "です．  \n",
    "\n",
    "以下100gあたりの質量です：  \n",
    "\n",
    "菓子類/＜デザート菓子類＞/カスタードプリン  \n",
    "https://fooddb.mext.go.jp/result/result_top.pl?USER_ID=10638  \n",
    "たんぱく質：5.7 g  \n",
    "脂質：5.5 g  \n",
    "炭水化物：14.0 g  \n",
    "\n",
    "卵類/鶏卵/全卵/生  \n",
    "https://fooddb.mext.go.jp/result/result_top.pl?USER_ID=10622  \n",
    "たんぱく質：12.2 g  \n",
    "脂質：10.2 g  \n",
    "炭水化物：0.4 g  \n",
    "\n",
    "乳類/＜牛乳及び乳製品＞/（液状乳類）/普通牛乳  \n",
    "https://fooddb.mext.go.jp/result/result_top.pl?USER_ID=10620  \n",
    "たんぱく質：3.3 g  \n",
    "脂質：3.8 g  \n",
    "炭水化物：4.8 g  \n",
    "\n",
    "砂糖  \n",
    "炭水化物：100 g  "
   ]
  },
  {
   "cell_type": "code",
   "execution_count": null,
   "metadata": {},
   "outputs": [],
   "source": [
    "flan=[5.7, 5.5, 14]\t#プリン\n",
    "egg=[12.2, 10.2, 0.4]\t#卵\n",
    "milk=[3.3, 3.8, 4.8]\t#牛乳\n",
    "sugar=[0,0,100]\t#砂糖"
   ]
  },
  {
   "cell_type": "code",
   "execution_count": null,
   "metadata": {},
   "outputs": [],
   "source": [
    "実際に算出します"
   ]
  },
  {
   "cell_type": "code",
   "execution_count": null,
   "metadata": {},
   "outputs": [],
   "source": [
    "pfc= [egg milk sugar]\\flan"
   ]
  },
  {
   "cell_type": "markdown",
   "metadata": {},
   "source": [
    "100gあたりの量のため100をかけるとそれぞれのグラム数が出ます"
   ]
  },
  {
   "cell_type": "code",
   "execution_count": null,
   "metadata": {},
   "outputs": [],
   "source": [
    "100*pfc"
   ]
  },
  {
   "cell_type": "markdown",
   "metadata": {},
   "source": [
    "比率の合計を出してみる"
   ]
  },
  {
   "cell_type": "code",
   "execution_count": null,
   "metadata": {},
   "outputs": [],
   "source": [
    "sum(pfc)"
   ]
  },
  {
   "cell_type": "markdown",
   "metadata": {},
   "source": [
    "合計すると1 (=100g)を超えています．  \n",
    "1からズレる統計的な一つの理由として料理とそれぞれの材料ではサンプルの元となる集団が違うことが挙げられます；なので必然的に誤差が生まれます．  \n",
    "ただ今回は加熱調理において蒸発して減った水分が大きな理由でしょう．  \n",
    "なお加熱によって栄養素の損失があるので，栄養算出は加熱後のデータを使うか，加熱による損失を差し引いたものの用意が必要です  "
   ]
  }
 ],
 "metadata": {
  "kernelspec": {
   "display_name": "Julia 1.5.3",
   "language": "julia",
   "name": "julia-1.5"
  },
  "language_info": {
   "file_extension": ".jl",
   "mimetype": "application/julia",
   "name": "julia",
   "version": "1.5.3"
  }
 },
 "nbformat": 4,
 "nbformat_minor": 4
}
